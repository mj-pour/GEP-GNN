version https://git-lfs.github.com/spec/v1
oid sha256:02f2c2cf71069e79e05cd3d875a0901e1c555a978b0ecdc93dad976ebd8e109d
size 25019
